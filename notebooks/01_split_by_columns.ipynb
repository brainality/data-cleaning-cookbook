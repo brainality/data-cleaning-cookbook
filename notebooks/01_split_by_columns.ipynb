{
  "cells": [
    {
      "cell_type": "markdown",
      "metadata": {},
      "source": [
        "# Split by Columns — demo\\n",
        "This notebook demonstrates the minimal function in `src/split_by_columns.py`.\\n"
      ]
    },
    {
      "cell_type": "code",
      "execution_count": null,
      "metadata": {},
      "outputs": [],
      "source": [
        "from src.split_by_columns import split_dataset_by_columns\\n",
        "\\n",
        "# Example usage (adjust path and columns to your data):\\n",
        "split_dataset_by_columns('data/sample/Northern_Ireland_Online_Crime.csv', ['sex', 'age'])\\n"
      ]
    }
  ],
  "metadata": {
    "kernelspec": {
      "display_name": "Python 3",
      "language": "python",
      "name": "python3"
    },
    "language_info": {
      "name": "python",
      "version": "3.11"
    }
  },
  "nbformat": 4,
  "nbformat_minor": 5
}